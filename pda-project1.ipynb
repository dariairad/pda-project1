{
 "cells": [
  {
   "cell_type": "markdown",
   "id": "5f9f23f9",
   "metadata": {},
   "source": [
    "# Programming for Data Analysis - Project 1"
   ]
  },
  {
   "cell_type": "markdown",
   "id": "9a5901d7",
   "metadata": {},
   "source": [
    "## Author: Daria Sep"
   ]
  },
  {
   "cell_type": "markdown",
   "id": "0fbdb783",
   "metadata": {},
   "source": [
    "___"
   ]
  },
  {
   "cell_type": "markdown",
   "id": "66f2d204",
   "metadata": {},
   "source": [
    "### Overview"
   ]
  },
  {
   "cell_type": "markdown",
   "id": "84274dd7",
   "metadata": {},
   "source": [
    "This notebook contains a dataset of mental health disorders and death by suicide among Irish adults.\n",
    "\n",
    "The data has been modeled and synthesised using numpy.random package in Python. The dataset represents a sample of a poulation.\n",
    "\n",
    "The notebook has been divided into three parts: \n",
    "1. **Variables** \n",
    "2. **Simulation**\n",
    "3. **Dataset & Analysis** "
   ]
  },
  {
   "cell_type": "code",
   "execution_count": 1,
   "id": "7c850e04",
   "metadata": {},
   "outputs": [],
   "source": [
    "# Importing libraries\n",
    "import numpy as np \n",
    "import pandas as pd\n",
    "import matplotlib.pyplot as plt\n",
    "import seaborn as sns"
   ]
  },
  {
   "cell_type": "code",
   "execution_count": 2,
   "id": "fedf27a3",
   "metadata": {},
   "outputs": [
    {
     "name": "stdout",
     "output_type": "stream",
     "text": [
      "['Solarize_Light2', '_classic_test_patch', '_mpl-gallery', '_mpl-gallery-nogrid', 'bmh', 'classic', 'dark_background', 'fast', 'fivethirtyeight', 'ggplot', 'grayscale', 'seaborn', 'seaborn-bright', 'seaborn-colorblind', 'seaborn-dark', 'seaborn-dark-palette', 'seaborn-darkgrid', 'seaborn-deep', 'seaborn-muted', 'seaborn-notebook', 'seaborn-paper', 'seaborn-pastel', 'seaborn-poster', 'seaborn-talk', 'seaborn-ticks', 'seaborn-white', 'seaborn-whitegrid', 'tableau-colorblind10']\n"
     ]
    }
   ],
   "source": [
    "# Checking available plot styles\n",
    "print(plt.style.available)"
   ]
  },
  {
   "cell_type": "code",
   "execution_count": 3,
   "id": "d4f09012",
   "metadata": {},
   "outputs": [],
   "source": [
    "# Setting plot style\n",
    "plt.style.use(\"bmh\")"
   ]
  },
  {
   "cell_type": "markdown",
   "id": "1963deb4",
   "metadata": {},
   "source": [
    "____"
   ]
  },
  {
   "cell_type": "markdown",
   "id": "06d403be",
   "metadata": {},
   "source": [
    "### Introduction"
   ]
  },
  {
   "cell_type": "markdown",
   "id": "89359f79",
   "metadata": {},
   "source": [
    "According to 2022 study, 42.5% of Irish adult population suffers from mental health disorders and 11% reportes having attempted suicide at some point in their lifetime. It has also been found that **people experiencing a mental health disorder were five times more likely than those without a disorder to have attempted suicide.** (Maynooth University 2022). In 2016, the suicide rate in Ireland was approximately 9.5/100,000 (CSO 2022).\n",
    "\n",
    "The surveys by World Health Organization show that the estimated lifetime prevalence of having a mental health disorder varies widely across the surveyed countries, from 47.4% in the United States to 12.0% in Nigeria (Kessler et all 2007). \n",
    "\n",
    "The findings of the Irish study are consistent with those of WHO and locate Ireland amongst countires with the highest prevelance of mental health distorders along with France (38%), Columbia (39%), New Zealand (39%) and the USA (47%) (Kessler et all 2007).\n",
    "\n",
    "The average score of deaths by suicide for Ireland is close to estimated global of 9/100,00 (WHO 2021)."
   ]
  },
  {
   "cell_type": "markdown",
   "id": "14047bc2",
   "metadata": {},
   "source": [
    "---"
   ]
  },
  {
   "cell_type": "markdown",
   "id": "2173cc14",
   "metadata": {},
   "source": [
    "### 1. Variables"
   ]
  },
  {
   "cell_type": "markdown",
   "id": "c180ceeb",
   "metadata": {},
   "source": [
    "List of variables, their distribution and relationship with each other."
   ]
  },
  {
   "cell_type": "markdown",
   "id": "5ea6ea99",
   "metadata": {},
   "source": [
    "#### Variables"
   ]
  },
  {
   "cell_type": "markdown",
   "id": "d50de56d",
   "metadata": {},
   "source": [
    "- ID \n",
    "- Age\n",
    "- Gender \n",
    "- Mental Health Disorder\n",
    "- Death by Suicide"
   ]
  },
  {
   "cell_type": "markdown",
   "id": "faecdc33",
   "metadata": {},
   "source": [
    "#### ID"
   ]
  },
  {
   "cell_type": "markdown",
   "id": "2459a47c",
   "metadata": {},
   "source": [
    "*ID* will represent each person in the sample. For the purpose of this project a numbered list of persons will be used. "
   ]
  },
  {
   "cell_type": "code",
   "execution_count": 4,
   "id": "ee87f765",
   "metadata": {},
   "outputs": [
    {
     "data": {
      "text/plain": [
       "['Person 1', 'Person 2', 'Person 3', 'Person 4', 'Person 5']"
      ]
     },
     "execution_count": 4,
     "metadata": {},
     "output_type": "execute_result"
    }
   ],
   "source": [
    "# Creating a numbered list of persons - Test\n",
    "\n",
    "person = []\n",
    "for i in range (1, 6):\n",
    "    person.append (\"Person {}\".format(i))\n",
    "person"
   ]
  },
  {
   "cell_type": "markdown",
   "id": "e7ead808",
   "metadata": {},
   "source": [
    "#### Age"
   ]
  },
  {
   "cell_type": "markdown",
   "id": "509d2651",
   "metadata": {},
   "source": [
    "According to the last available *Census of Population*, the average age of the population in 2016 was 37.4 (CSO 2022). \n",
    "\n",
    "Normal distribution allows for negative values and has no bounds. However, based on further research, normal distribution can be used for bounded variables and is an appropriate choice for *age* approximation assuring correct adjustements."
   ]
  },
  {
   "cell_type": "markdown",
   "id": "e1dea9d8",
   "metadata": {},
   "source": [
    "#### Gender"
   ]
  },
  {
   "cell_type": "markdown",
   "id": "c3c8ddaf",
   "metadata": {},
   "source": [
    "*Gender* is categorised as a qualitative data variable with two possible values: *male* or *female*. According to the 2016 Census of Population, there were 978 males for every 1,000 females in Ireland at that time. This translates to the ratio of male: 49.44% and female: 50.56%.\n",
    "\n",
    "However, it is closer to the ratio below when looking at adult population only:\n",
    "\n",
    "- male 48.88%\n",
    "- female 51.12%\n",
    "\n",
    "(CSO 2017, CSO 2022)"
   ]
  },
  {
   "cell_type": "markdown",
   "id": "a2f31398",
   "metadata": {},
   "source": [
    "#### Mental Health Disorder"
   ]
  },
  {
   "cell_type": "markdown",
   "id": "7f8bb740",
   "metadata": {},
   "source": [
    "Almost 1 in 5 adults in Ireland suffers from at lest one mental disorder - approx 42.5% of adult population. (Hyland et al 2022)\n",
    "\n",
    "*Mental Health Disorder* is a qualitative nominal data type (Kumari 2021)."
   ]
  },
  {
   "cell_type": "markdown",
   "id": "3c88e98a",
   "metadata": {},
   "source": [
    "#### Death by Suicide\n",
    "\n",
    "As mentioned in the Overview section, the suicide rate in Ireland was approximately 9.5/100,000 in 2016 (CSO 2022)."
   ]
  },
  {
   "cell_type": "markdown",
   "id": "8e66d9e5",
   "metadata": {},
   "source": [
    "#### Age vs Gender "
   ]
  },
  {
   "cell_type": "markdown",
   "id": "a99d008b",
   "metadata": {},
   "source": [
    "The average age for women was higher than that of men and the averages were 38 and 36.7 respectively. However, age distribution by age group is very similar despite of gender. The biggest group constitutes of ages 25-44 with a 45-64 group at a close second. The smalest group is the 15-24 group followed by over 65s (CSO 2017). "
   ]
  },
  {
   "cell_type": "markdown",
   "id": "4c8e5a7f",
   "metadata": {},
   "source": [
    "#### Age vs Mental Health and Suicide Rates"
   ]
  },
  {
   "cell_type": "markdown",
   "id": "ada02c19",
   "metadata": {},
   "source": [
    "Mental health disorders are more prevelent in younger age groups. A 2022 study on *State of Ireland's mental health* found that people aged 18-24 years were eight times more likely than people aged 55 and over to suffer from a mental health disorder (Maynooth University 2022). \n",
    "\n",
    "Hovewer, death by suicide between 2015-2019 was most prevelent in the age older groups. One in 3 deaths from self-harm were by persons aged 45-64, while one in ten by persons aged 65 years and older. (CSO 2022). "
   ]
  },
  {
   "cell_type": "markdown",
   "id": "6b026658",
   "metadata": {},
   "source": [
    "#### Gender vs Mental Health and Suicide Rates"
   ]
  },
  {
   "cell_type": "markdown",
   "id": "ce33c639",
   "metadata": {},
   "source": [
    "Although women are thrice more likely to suffer from mental health disorders than men, it is men that are more likely than women to die of suicide. Globally, suicide rates in men are just over twice as high as for women (Ritchie at al 2015). In 2016, those rate were even higer for Irish men. They were three times more likely to die of suicide than Irish women (CSO 2022).\n",
    "\n",
    "Different mental health disorders are more commonly diagnosed in men and women. Men tend toward substance abuse or antisocial disorders, while women are more likely to suffer from with anxiety or depressio (American Psychological Association 2011)."
   ]
  },
  {
   "cell_type": "markdown",
   "id": "75eff253",
   "metadata": {},
   "source": [
    "#### Mental Health Disorders vs Sucicide Rates"
   ]
  },
  {
   "cell_type": "markdown",
   "id": "b6ddbc23",
   "metadata": {},
   "source": [
    "Five times more poeple who commit suicide suffer from mental health disorder than those who don't. (Maynooth University 2022).\n",
    "\n",
    "Suffering from any of the 12 disorders listed earlier inclreases risk of dying of suicide. However, the risk vary from dependng on the disorder. "
   ]
  },
  {
   "cell_type": "markdown",
   "id": "758177e0",
   "metadata": {},
   "source": [
    "### Modelling"
   ]
  },
  {
   "cell_type": "code",
   "execution_count": 5,
   "id": "7cd05ba9",
   "metadata": {},
   "outputs": [],
   "source": [
    "df = pd.DataFrame(index = None)\n",
    "rng = np.random.default_rng(seed = 1)"
   ]
  },
  {
   "cell_type": "markdown",
   "id": "643788e6",
   "metadata": {},
   "source": [
    "#### ID"
   ]
  },
  {
   "cell_type": "code",
   "execution_count": 6,
   "id": "cff5b1a6",
   "metadata": {},
   "outputs": [
    {
     "data": {
      "text/html": [
       "<div>\n",
       "<style scoped>\n",
       "    .dataframe tbody tr th:only-of-type {\n",
       "        vertical-align: middle;\n",
       "    }\n",
       "\n",
       "    .dataframe tbody tr th {\n",
       "        vertical-align: top;\n",
       "    }\n",
       "\n",
       "    .dataframe thead th {\n",
       "        text-align: right;\n",
       "    }\n",
       "</style>\n",
       "<table border=\"1\" class=\"dataframe\">\n",
       "  <thead>\n",
       "    <tr style=\"text-align: right;\">\n",
       "      <th></th>\n",
       "      <th>person</th>\n",
       "    </tr>\n",
       "  </thead>\n",
       "  <tbody>\n",
       "    <tr>\n",
       "      <th>0</th>\n",
       "      <td>Person 1</td>\n",
       "    </tr>\n",
       "    <tr>\n",
       "      <th>1</th>\n",
       "      <td>Person 2</td>\n",
       "    </tr>\n",
       "    <tr>\n",
       "      <th>2</th>\n",
       "      <td>Person 3</td>\n",
       "    </tr>\n",
       "    <tr>\n",
       "      <th>3</th>\n",
       "      <td>Person 4</td>\n",
       "    </tr>\n",
       "    <tr>\n",
       "      <th>4</th>\n",
       "      <td>Person 5</td>\n",
       "    </tr>\n",
       "  </tbody>\n",
       "</table>\n",
       "</div>"
      ],
      "text/plain": [
       "     person\n",
       "0  Person 1\n",
       "1  Person 2\n",
       "2  Person 3\n",
       "3  Person 4\n",
       "4  Person 5"
      ]
     },
     "execution_count": 6,
     "metadata": {},
     "output_type": "execute_result"
    }
   ],
   "source": [
    "person = []\n",
    "for i in range (2000):\n",
    "    person.append (\"Person {}\".format(i+1))\n",
    "\n",
    "df[\"person\"] = person\n",
    "df.head()"
   ]
  },
  {
   "cell_type": "markdown",
   "id": "45a14f8b",
   "metadata": {},
   "source": [
    "#### Gender"
   ]
  },
  {
   "cell_type": "code",
   "execution_count": 7,
   "id": "2b97e8c4",
   "metadata": {},
   "outputs": [
    {
     "data": {
      "image/png": "[encoded data removed]",
      "text/plain": [
       "<Figure size 640x480 with 1 Axes>"
      ]
     },
     "metadata": {},
     "output_type": "display_data"
    }
   ],
   "source": [
    "gender_choice = [\"Male\",\"Female\"]\n",
    "gender = rng.choice (gender_choice, p = [0.4888, 0.5112], size = 2000)\n",
    "df[\"gender\"] = gender\n",
    "\n",
    "# Test\n",
    "sns.countplot(x = df[\"gender\"])\n",
    "plt.suptitle (\"Male vs Female\")\n",
    "plt.show()"
   ]
  },
  {
   "cell_type": "code",
   "execution_count": 8,
   "id": "833c15e5",
   "metadata": {},
   "outputs": [
    {
     "data": {
      "text/html": [
       "<div>\n",
       "<style scoped>\n",
       "    .dataframe tbody tr th:only-of-type {\n",
       "        vertical-align: middle;\n",
       "    }\n",
       "\n",
       "    .dataframe tbody tr th {\n",
       "        vertical-align: top;\n",
       "    }\n",
       "\n",
       "    .dataframe thead th {\n",
       "        text-align: right;\n",
       "    }\n",
       "</style>\n",
       "<table border=\"1\" class=\"dataframe\">\n",
       "  <thead>\n",
       "    <tr style=\"text-align: right;\">\n",
       "      <th></th>\n",
       "      <th>person</th>\n",
       "      <th>gender</th>\n",
       "    </tr>\n",
       "  </thead>\n",
       "  <tbody>\n",
       "    <tr>\n",
       "      <th>0</th>\n",
       "      <td>Person 1</td>\n",
       "      <td>Female</td>\n",
       "    </tr>\n",
       "    <tr>\n",
       "      <th>1</th>\n",
       "      <td>Person 2</td>\n",
       "      <td>Female</td>\n",
       "    </tr>\n",
       "    <tr>\n",
       "      <th>2</th>\n",
       "      <td>Person 3</td>\n",
       "      <td>Male</td>\n",
       "    </tr>\n",
       "    <tr>\n",
       "      <th>3</th>\n",
       "      <td>Person 4</td>\n",
       "      <td>Female</td>\n",
       "    </tr>\n",
       "    <tr>\n",
       "      <th>4</th>\n",
       "      <td>Person 5</td>\n",
       "      <td>Male</td>\n",
       "    </tr>\n",
       "  </tbody>\n",
       "</table>\n",
       "</div>"
      ],
      "text/plain": [
       "     person  gender\n",
       "0  Person 1  Female\n",
       "1  Person 2  Female\n",
       "2  Person 3    Male\n",
       "3  Person 4  Female\n",
       "4  Person 5    Male"
      ]
     },
     "execution_count": 8,
     "metadata": {},
     "output_type": "execute_result"
    }
   ],
   "source": [
    "df.head()"
   ]
  },
  {
   "cell_type": "code",
   "execution_count": 9,
   "id": "870e5c29",
   "metadata": {},
   "outputs": [
    {
     "data": {
      "text/plain": [
       "Female    1016\n",
       "Male       984\n",
       "Name: gender, dtype: int64"
      ]
     },
     "execution_count": 9,
     "metadata": {},
     "output_type": "execute_result"
    }
   ],
   "source": [
    "df[\"gender\"]. value_counts()"
   ]
  },
  {
   "cell_type": "markdown",
   "id": "d8a2793f",
   "metadata": {},
   "source": [
    "Slightly more women than men as per real-data."
   ]
  },
  {
   "cell_type": "markdown",
   "id": "e2166f10",
   "metadata": {},
   "source": [
    "#### Age"
   ]
  },
  {
   "cell_type": "code",
   "execution_count": 10,
   "id": "98c57397",
   "metadata": {},
   "outputs": [],
   "source": [
    "#SRD based on US numbers (Edwards 2008). I was not able to locate Global or Irish rate.\n",
    "age = []\n",
    "for i in range(2000):\n",
    "    a= np.clip(rng.normal(37.4, 15), 18, 100)\n",
    "    age.append(int(a))\n",
    "df[\"age\"] = age"
   ]
  },
  {
   "cell_type": "code",
   "execution_count": 11,
   "id": "4f3b9135",
   "metadata": {},
   "outputs": [
    {
     "data": {
      "text/html": [
       "<div>\n",
       "<style scoped>\n",
       "    .dataframe tbody tr th:only-of-type {\n",
       "        vertical-align: middle;\n",
       "    }\n",
       "\n",
       "    .dataframe tbody tr th {\n",
       "        vertical-align: top;\n",
       "    }\n",
       "\n",
       "    .dataframe thead th {\n",
       "        text-align: right;\n",
       "    }\n",
       "</style>\n",
       "<table border=\"1\" class=\"dataframe\">\n",
       "  <thead>\n",
       "    <tr style=\"text-align: right;\">\n",
       "      <th></th>\n",
       "      <th>person</th>\n",
       "      <th>gender</th>\n",
       "      <th>age</th>\n",
       "    </tr>\n",
       "  </thead>\n",
       "  <tbody>\n",
       "    <tr>\n",
       "      <th>0</th>\n",
       "      <td>Person 1</td>\n",
       "      <td>Female</td>\n",
       "      <td>22</td>\n",
       "    </tr>\n",
       "    <tr>\n",
       "      <th>1</th>\n",
       "      <td>Person 2</td>\n",
       "      <td>Female</td>\n",
       "      <td>39</td>\n",
       "    </tr>\n",
       "    <tr>\n",
       "      <th>2</th>\n",
       "      <td>Person 3</td>\n",
       "      <td>Male</td>\n",
       "      <td>61</td>\n",
       "    </tr>\n",
       "    <tr>\n",
       "      <th>3</th>\n",
       "      <td>Person 4</td>\n",
       "      <td>Female</td>\n",
       "      <td>36</td>\n",
       "    </tr>\n",
       "    <tr>\n",
       "      <th>4</th>\n",
       "      <td>Person 5</td>\n",
       "      <td>Male</td>\n",
       "      <td>28</td>\n",
       "    </tr>\n",
       "  </tbody>\n",
       "</table>\n",
       "</div>"
      ],
      "text/plain": [
       "     person  gender  age\n",
       "0  Person 1  Female   22\n",
       "1  Person 2  Female   39\n",
       "2  Person 3    Male   61\n",
       "3  Person 4  Female   36\n",
       "4  Person 5    Male   28"
      ]
     },
     "execution_count": 11,
     "metadata": {},
     "output_type": "execute_result"
    }
   ],
   "source": [
    "df.head()"
   ]
  },
  {
   "cell_type": "code",
   "execution_count": 12,
   "id": "51b79134",
   "metadata": {},
   "outputs": [
    {
     "data": {
      "text/html": [
       "<div>\n",
       "<style scoped>\n",
       "    .dataframe tbody tr th:only-of-type {\n",
       "        vertical-align: middle;\n",
       "    }\n",
       "\n",
       "    .dataframe tbody tr th {\n",
       "        vertical-align: top;\n",
       "    }\n",
       "\n",
       "    .dataframe thead th {\n",
       "        text-align: right;\n",
       "    }\n",
       "</style>\n",
       "<table border=\"1\" class=\"dataframe\">\n",
       "  <thead>\n",
       "    <tr style=\"text-align: right;\">\n",
       "      <th></th>\n",
       "      <th>person</th>\n",
       "      <th>gender</th>\n",
       "      <th>age</th>\n",
       "    </tr>\n",
       "  </thead>\n",
       "  <tbody>\n",
       "    <tr>\n",
       "      <th>1995</th>\n",
       "      <td>Person 1996</td>\n",
       "      <td>Male</td>\n",
       "      <td>53</td>\n",
       "    </tr>\n",
       "    <tr>\n",
       "      <th>1996</th>\n",
       "      <td>Person 1997</td>\n",
       "      <td>Male</td>\n",
       "      <td>50</td>\n",
       "    </tr>\n",
       "    <tr>\n",
       "      <th>1997</th>\n",
       "      <td>Person 1998</td>\n",
       "      <td>Female</td>\n",
       "      <td>25</td>\n",
       "    </tr>\n",
       "    <tr>\n",
       "      <th>1998</th>\n",
       "      <td>Person 1999</td>\n",
       "      <td>Female</td>\n",
       "      <td>51</td>\n",
       "    </tr>\n",
       "    <tr>\n",
       "      <th>1999</th>\n",
       "      <td>Person 2000</td>\n",
       "      <td>Male</td>\n",
       "      <td>58</td>\n",
       "    </tr>\n",
       "  </tbody>\n",
       "</table>\n",
       "</div>"
      ],
      "text/plain": [
       "           person  gender  age\n",
       "1995  Person 1996    Male   53\n",
       "1996  Person 1997    Male   50\n",
       "1997  Person 1998  Female   25\n",
       "1998  Person 1999  Female   51\n",
       "1999  Person 2000    Male   58"
      ]
     },
     "execution_count": 12,
     "metadata": {},
     "output_type": "execute_result"
    }
   ],
   "source": [
    "df.tail()"
   ]
  },
  {
   "cell_type": "code",
   "execution_count": 13,
   "id": "9a996d3f",
   "metadata": {},
   "outputs": [
    {
     "name": "stdout",
     "output_type": "stream",
     "text": [
      "37.598\n"
     ]
    }
   ],
   "source": [
    "mean = np.mean (df[\"age\"])\n",
    "print(mean)"
   ]
  },
  {
   "cell_type": "markdown",
   "id": "7666f6f6",
   "metadata": {},
   "source": [
    "Synthetic mean close to the mean of 37.4."
   ]
  },
  {
   "cell_type": "code",
   "execution_count": 14,
   "id": "b7114fc6",
   "metadata": {},
   "outputs": [
    {
     "data": {
      "image/png": "[encoded data removed]",
      "text/plain": [
       "<Figure size 640x480 with 1 Axes>"
      ]
     },
     "metadata": {},
     "output_type": "display_data"
    }
   ],
   "source": [
    "sns.histplot (df[\"age\"])\n",
    "plt.suptitle (\"Population Age\")\n",
    "plt.axvline (mean)\n",
    "plt.text (x = mean, y = 250, s = \" Mean\")\n",
    "plt.show()"
   ]
  },
  {
   "cell_type": "markdown",
   "id": "2d2e5e59",
   "metadata": {},
   "source": [
    "#### Mental Health Disorder"
   ]
  },
  {
   "cell_type": "code",
   "execution_count": 15,
   "id": "24790538",
   "metadata": {},
   "outputs": [
    {
     "data": {
      "text/html": [
       "<div>\n",
       "<style scoped>\n",
       "    .dataframe tbody tr th:only-of-type {\n",
       "        vertical-align: middle;\n",
       "    }\n",
       "\n",
       "    .dataframe tbody tr th {\n",
       "        vertical-align: top;\n",
       "    }\n",
       "\n",
       "    .dataframe thead th {\n",
       "        text-align: right;\n",
       "    }\n",
       "</style>\n",
       "<table border=\"1\" class=\"dataframe\">\n",
       "  <thead>\n",
       "    <tr style=\"text-align: right;\">\n",
       "      <th></th>\n",
       "      <th>person</th>\n",
       "      <th>gender</th>\n",
       "      <th>age</th>\n",
       "      <th>disorder</th>\n",
       "    </tr>\n",
       "  </thead>\n",
       "  <tbody>\n",
       "    <tr>\n",
       "      <th>0</th>\n",
       "      <td>Person 1</td>\n",
       "      <td>Female</td>\n",
       "      <td>22</td>\n",
       "      <td>No</td>\n",
       "    </tr>\n",
       "    <tr>\n",
       "      <th>1</th>\n",
       "      <td>Person 2</td>\n",
       "      <td>Female</td>\n",
       "      <td>39</td>\n",
       "      <td>No</td>\n",
       "    </tr>\n",
       "    <tr>\n",
       "      <th>2</th>\n",
       "      <td>Person 3</td>\n",
       "      <td>Male</td>\n",
       "      <td>61</td>\n",
       "      <td>No</td>\n",
       "    </tr>\n",
       "    <tr>\n",
       "      <th>3</th>\n",
       "      <td>Person 4</td>\n",
       "      <td>Female</td>\n",
       "      <td>36</td>\n",
       "      <td>Yes</td>\n",
       "    </tr>\n",
       "    <tr>\n",
       "      <th>4</th>\n",
       "      <td>Person 5</td>\n",
       "      <td>Male</td>\n",
       "      <td>28</td>\n",
       "      <td>Yes</td>\n",
       "    </tr>\n",
       "  </tbody>\n",
       "</table>\n",
       "</div>"
      ],
      "text/plain": [
       "     person  gender  age disorder\n",
       "0  Person 1  Female   22       No\n",
       "1  Person 2  Female   39       No\n",
       "2  Person 3    Male   61       No\n",
       "3  Person 4  Female   36      Yes\n",
       "4  Person 5    Male   28      Yes"
      ]
     },
     "execution_count": 15,
     "metadata": {},
     "output_type": "execute_result"
    }
   ],
   "source": [
    "disorder_choice = [\"Yes\", \"No\"]\n",
    "\n",
    "disorder = rng.choice (disorder_choice, p = [0.425, 0.575], size = 2000)  \n",
    "df[\"disorder\"] = disorder\n",
    "\n",
    "df.head ()                  "
   ]
  },
  {
   "cell_type": "code",
   "execution_count": 16,
   "id": "2ac0b0b8",
   "metadata": {},
   "outputs": [
    {
     "data": {
      "image/png": "[encoded data removed]",
      "text/plain": [
       "<Figure size 640x480 with 1 Axes>"
      ]
     },
     "metadata": {},
     "output_type": "display_data"
    }
   ],
   "source": [
    "sns.countplot(x = df[\"disorder\"])\n",
    "plt.suptitle (\"Suffering from Mental Health Disorder\")\n",
    "plt.show()"
   ]
  },
  {
   "cell_type": "markdown",
   "id": "16e8fd7b",
   "metadata": {},
   "source": [
    "### Age, Gender adn Mental Health Disorders"
   ]
  },
  {
   "cell_type": "code",
   "execution_count": 17,
   "id": "ab7041cf",
   "metadata": {},
   "outputs": [],
   "source": [
    "#Defining a function.  "
   ]
  },
  {
   "cell_type": "markdown",
   "id": "9f1f4a13",
   "metadata": {},
   "source": [
    "### Dataset"
   ]
  },
  {
   "cell_type": "code",
   "execution_count": 18,
   "id": "f81ef507",
   "metadata": {},
   "outputs": [
    {
     "name": "stdout",
     "output_type": "stream",
     "text": [
      "           person  gender  age disorder\n",
      "0        Person 1  Female   22       No\n",
      "1        Person 2  Female   39       No\n",
      "2        Person 3    Male   61       No\n",
      "3        Person 4  Female   36      Yes\n",
      "4        Person 5    Male   28      Yes\n",
      "...           ...     ...  ...      ...\n",
      "1995  Person 1996    Male   53       No\n",
      "1996  Person 1997    Male   50       No\n",
      "1997  Person 1998  Female   25       No\n",
      "1998  Person 1999  Female   51       No\n",
      "1999  Person 2000    Male   58       No\n",
      "\n",
      "[2000 rows x 4 columns]\n"
     ]
    }
   ],
   "source": [
    "print(df)"
   ]
  },
  {
   "cell_type": "markdown",
   "id": "01bea910",
   "metadata": {},
   "source": [
    "_____"
   ]
  },
  {
   "cell_type": "markdown",
   "id": "457ee605",
   "metadata": {},
   "source": [
    "### References"
   ]
  },
  {
   "cell_type": "markdown",
   "id": "80035817",
   "metadata": {},
   "source": [
    "Arnholt, A. (2016). *Passion Driven Statistics.* Online at https://alanarnholt.github.io/PDS-Bookdown2/\n",
    "\n",
    "American Psychological Association (2021). *Study Finds Sex Differences in Mental Illness.* Online at https://www.apa.org/news/press/releases/2011/08/mental-illness\n",
    "\n",
    "Central Statistics Office (2017). *Census of Population 2016 - Profile 2 Population Distribution and Movements.* Online at https://www.cso.ie/en/releasesandpublications/ep/p-cp2tc/cp2pdm/\n",
    "\n",
    "Central Statistics Office (2017). *Census of Population 2016 - Profile 3 An Age Profile of Ireland.* Online at https://www.cso.ie/en/releasesandpublications/ep/p-cp3oy/cp3/\n",
    "\n",
    "Central Statistics Office (2022). *EY007 - Population 2011 to 2016*, Census 2016. Online at https://data.cso.ie/\n",
    "\n",
    "Central Statistics Office (2022). *Suicide Statistics 2019*. Online at https://www.cso.ie/en/releasesandpublications/ep/p-ss/suicidestatistics2019/\n",
    "\n",
    "Edwards, R.(2008). the Cost of Uncertain Life Span.*J Popul Econ.* Online at https://www.ncbi.nlm.nih.gov/pmc/articles/PMC3285408/\n",
    "\n",
    "Gruebner G, Rapp M, Adli M, Kluge U, Galea S, Heinz A, (2017). Cities and Mental Health. *Deutsches Ärzteblatt International, Vol.114, p.121–127.* Available online at https://www.ncbi.nlm.nih.gov/pmc/articles/PMC5374256/\n",
    "\n",
    "Hyland P, Vallières F, Shevlin M, Bentall R, Butter S, Hartman T, Karatzias T, Martinez A, McBride O, Murphy J, Fox R, (2022). State of Ireland's mental health: findings from a nationally representative survey. *Epidemiology and Psychiatric Sciences, Vol.31.* Available online at https://www.ncbi.nlm.nih.gov/pmc/articles/PMC9281488/\n",
    "\n",
    "Kessler R, Angermayer M, Anthony J, De Graff R, Demyttenaere K, Gasquet I, De Girolamo G, Gluzman S, Gureje O, Haro J, Kawakami N, Karam A, Levinson D, Mora M, Browne M, Posada-Villa J, Stein D, Tsang C, Aguilar-Gaxiola S, Alonso J, Lee S, Heeringa S, Pennell B,  Berglund P, Gruber M, Petukhova M, Chatterji S, Üstün T (2007). Lifetime prevalence and age-of-onset distributions of mental disorders in the World Health Organization's World Mental Health Survey Initiative. *World Psychiatry, vol.6.* Online at: https://www.ncbi.nlm.nih.gov/pmc/articles/PMC2174588/\n",
    "\n",
    "Kumari, Riya (2021). *4 Types of Data in Statistics.* Online at https://www.analyticssteps.com/blogs/4-types-data-statistics\n",
    "\n",
    "Markdown Guide (2022). Markdown Cheat Sheet. Online at https://www.markdownguide.org/cheat-sheet/\n",
    "Matplotlib (n.d.) *Customizing Matplotlib with style sheets and rcParams* https://matplotlib.org/stable/tutorials/introductory/customizing.html\n",
    "\n",
    "Maynooth University (2022). *Over 40% of Irish adults have a mental health disorder and one in ten have attempted suicide – MU, NCI and Trinity College research.* Online at https://www.maynoothuniversity.ie/psychology/news/over-40-irish-adults-have-mental-health-disorder-and-one-ten-have-attempted-suicide-mu-nci-and\n",
    "\n",
    "NumPy (n.d.). *Random Generator.* Online at https://numpy.org/doc/stable/reference/random/generator.html \n",
    "\n",
    "Ritchie H, Roser M, and Ortiz-Ospina E (2015). *Suicide.* Online at: 'https://ourworldindata.org/suicide'\n",
    "\n",
    "Stack Exchange (2015). *If my histogram shows a bell-shaped curve, can I say my data is normally distributed?* Online at https://stats.stackexchange.com/\n",
    "\n",
    "World Health Organization (2021). *Suicide.* Online at https://www.who.int/news-room/fact-sheets/detail/suicide\n",
    "\n",
    "World Health Organization (2021). *Suicide Rates.* Online at https://www.who.int/data/gho/data/themes/mental-health/suicide-rates\n",
    "\n",
    "World Health Organization (2022). *Mental disorders.* Online at https://www.who.int/news-room/fact-sheets/detail/mental-disorders"
   ]
  }
 ],
 "metadata": {
  "kernelspec": {
   "display_name": "Python 3 (ipykernel)",
   "language": "python",
   "name": "python3"
  },
  "language_info": {
   "codemirror_mode": {
    "name": "ipython",
    "version": 3
   },
   "file_extension": ".py",
   "mimetype": "text/x-python",
   "name": "python",
   "nbconvert_exporter": "python",
   "pygments_lexer": "ipython3",
   "version": "3.9.13"
  },
  "vscode": {
   "interpreter": {
    "hash": "12c0276a1a3b8bd9bb5cd17bf1d8b29ed92a748b04abe156fcb301d2e09a54b6"
   }
  }
 },
 "nbformat": 4,
 "nbformat_minor": 5
}

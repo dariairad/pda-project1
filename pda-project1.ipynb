{
 "cells": [
  {
   "cell_type": "markdown",
   "id": "5f9f23f9",
   "metadata": {},
   "source": [
    "# Programming for Data Analysis - Project 1"
   ]
  },
  {
   "cell_type": "markdown",
   "id": "9a5901d7",
   "metadata": {},
   "source": [
    "## Author: Daria Sep"
   ]
  },
  {
   "cell_type": "markdown",
   "id": "0fbdb783",
   "metadata": {},
   "source": [
    "___"
   ]
  },
  {
   "cell_type": "markdown",
   "id": "66f2d204",
   "metadata": {},
   "source": [
    "### Introduction"
   ]
  },
  {
   "cell_type": "markdown",
   "id": "84274dd7",
   "metadata": {},
   "source": [
    "This notebook contains a dataset of mental health disorders among Irish adults. The data has been modeled and synthesised using numpy.random package in Python. The dataset represents a sample of a poulation.\n",
    "\n",
    "The notebook has been divided into three parts: Research, Simulation and Data Analysis. \n",
    "\n",
    "1. **Research** part contains investigation of the types of the variables involved, their likely distribution, and their relationship with each other.\n",
    "\n",
    "2. **Simulation** part \n",
    "\n",
    "3. **Data Analysis** part contains analysis of the generated database and its comarison with real-life data."
   ]
  },
  {
   "cell_type": "markdown",
   "id": "1963deb4",
   "metadata": {},
   "source": [
    "____"
   ]
  },
  {
   "cell_type": "markdown",
   "id": "2173cc14",
   "metadata": {},
   "source": [
    "### 1. Research"
   ]
  },
  {
   "cell_type": "markdown",
   "id": "c180ceeb",
   "metadata": {},
   "source": []
  },
  {
   "cell_type": "markdown",
   "id": "5ea6ea99",
   "metadata": {},
   "source": [
    "#### Variables"
   ]
  },
  {
   "cell_type": "markdown",
   "id": "d50de56d",
   "metadata": {},
   "source": [
    "- ID \n",
    "- Age\n",
    "- Gender \n",
    "- Educational achievement \n",
    "- Employment status\n",
    "- Urban vs Rural"
   ]
  },
  {
   "cell_type": "markdown",
   "id": "faecdc33",
   "metadata": {},
   "source": [
    "#### ID"
   ]
  },
  {
   "cell_type": "markdown",
   "id": "2459a47c",
   "metadata": {},
   "source": [
    "*ID* will represent each person in the sample. For the purpose of this project a numbered list of persons will be used. "
   ]
  },
  {
   "cell_type": "code",
   "execution_count": 2,
   "id": "ee87f765",
   "metadata": {},
   "outputs": [
    {
     "data": {
      "text/plain": [
       "['Person 1', 'Person 2', 'Person 3', 'Person 4', 'Person 5']"
      ]
     },
     "execution_count": 2,
     "metadata": {},
     "output_type": "execute_result"
    }
   ],
   "source": [
    "# Creating a numbered list of persons - Test\n",
    "\n",
    "person = []\n",
    "for i in range (1, 6):\n",
    "    person.append (\"Person {}\".format(i))\n",
    "person"
   ]
  },
  {
   "cell_type": "markdown",
   "id": "e7ead808",
   "metadata": {},
   "source": [
    "#### Age"
   ]
  },
  {
   "cell_type": "markdown",
   "id": "509d2651",
   "metadata": {},
   "source": [
    "Mental health disorders are more prevelent in younger age groups. A 2022 study on *State of Ireland's mental health* found that people aged 18-24 years were eight times more likely than people aged 55 and over to suffer from a mental health disorder (Maynooth University 2022).\n",
    "\n",
    "According to the last available *Census of Population*, the average age of the population in 2016 was 37.4. The average age for women was higher than that of men. The averages were 38 and 36.7 respectively (CSO 2017). **#adult population, median, etc** \n",
    "\n",
    "Normal distribution allows for negative values and has no bounds. However, based on further research, normal distribution can be used for bounded variables and is an appropriate choice for *age* approximation assuring correct adjustement to the mean value. "
   ]
  },
  {
   "cell_type": "markdown",
   "id": "e1dea9d8",
   "metadata": {},
   "source": [
    "#### Gender"
   ]
  },
  {
   "cell_type": "markdown",
   "id": "c3c8ddaf",
   "metadata": {},
   "source": [
    "*Gender* is categorised as a qualitative data variable with two possible values: *male* or *female*. According to the 2016 Census of Population, there were 978 males for every 1,000 females in Ireland at that time. This translates to the ratio of male: 49.44% and female: 50.56% (CSO 2017)\n",
    "\n",
    "However, it is closer to the ratio below when looking at adult population only:\n",
    "\n",
    "- male 48.88%\n",
    "- female 51.12%"
   ]
  },
  {
   "cell_type": "markdown",
   "id": "a2f31398",
   "metadata": {},
   "source": [
    "#### Educational achievement "
   ]
  },
  {
   "cell_type": "markdown",
   "id": "7f8bb740",
   "metadata": {},
   "source": [
    "#### Employment status"
   ]
  },
  {
   "cell_type": "markdown",
   "id": "3c88e98a",
   "metadata": {},
   "source": [
    "#### Urban vs Rural"
   ]
  },
  {
   "cell_type": "markdown",
   "id": "06fd4f4e",
   "metadata": {},
   "source": [
    "Due to multiple underlying factors, living in urban areas is correlated with higher risk of mental health disorders (Gruebner 2017). \n",
    "\n",
    "In 2016, people living in urban areas made up 63% of population. Their average age was 2.4 years younger than that of the population in urban areas. While the urban population peaked at age 36 reflecting the migration of young adults moving to work and study, in rural areas a peak could be seen at ages 45 and 8 (CSO 2017)."
   ]
  },
  {
   "cell_type": "markdown",
   "id": "924156c5",
   "metadata": {},
   "source": [
    "### References: "
   ]
  },
  {
   "cell_type": "markdown",
   "id": "e16d46e1",
   "metadata": {},
   "source": [
    "Central Statistics Office (2017). *Census of Population 2016 - Profile 2 Population Distribution and Movements.* Online at https://www.cso.ie/en/releasesandpublications/ep/p-cp2tc/cp2pdm/\n",
    "\n",
    "Central Statistics Office (2017). *Census of Population 2016 - Profile 3 An Age Profile of Ireland.* Online at https://www.cso.ie/en/releasesandpublications/ep/p-cp3oy/cp3/\n",
    "\n",
    "Central Statistics Office (2022). *EY007 - Population 2011 to 2016*, Census 2016. Online at https://data.cso.ie/\n",
    "\n",
    "Gruebner, G, Rapp, M, Adli, M, Kluge, U, Galea, S, Heinz, A, (2017). Cities and Mental Health. *Deutsches Ärzteblatt International, Vol.114, p.121–127.* Available online at https://www.ncbi.nlm.nih.gov/pmc/articles/PMC5374256/\n",
    "\n",
    "Hyland, P, Vallières, F, Shevlin, M, Bentall, R, Butter, S, Hartman, T, Karatzias, T, Martinez, A, McBride, O, Murphy, J, Fox, R, (2022). State of Ireland's mental health: findings from a nationally representative survey. *Epidemiology and Psychiatric Sciences, Vol.31.* Available online at https://www.ncbi.nlm.nih.gov/pmc/articles/PMC9281488/\n",
    "\n",
    "Maynooth University (2022). *Over 40% of Irish adults have a mental health disorder and one in ten have attempted suicide – MU, NCI and Trinity College research.* Online at https://www.maynoothuniversity.ie/psychology/news/over-40-irish-adults-have-mental-health-disorder-and-one-ten-have-attempted-suicide-mu-nci-and\n",
    "\n",
    "________\n",
    "\n",
    "Mechelli, A. (2019) *Cities increase your risk of depression, anxiety and psychosis – but bring mental health benefits too.* Available online at https://www.kcl.ac.uk/cities-increase-your-risk-of-depression-anxiety-and-psychosis-but-bring-mental-health-benefits-too\n",
    "\n",
    "\n",
    "_________\n",
    "\n",
    "\n",
    "Arnholt, A. (2016). *Passion Driven Statistics.* Online at https://alanarnholt.github.io/PDS-Bookdown2/\n",
    "\n",
    "Markdown Guide (2022). Markdown Cheat Sheet. Online at https://www.markdownguide.org/cheat-sheet/\n",
    "\n",
    "Stack Exchange (2015). *If my histogram shows a bell-shaped curve, can I say my data is normally distributed?* Online at https://stats.stackexchange.com/\n",
    "\n",
    "\n",
    "\n"
   ]
  },
  {
   "cell_type": "code",
   "execution_count": null,
   "id": "947b7311",
   "metadata": {},
   "outputs": [],
   "source": []
  }
 ],
 "metadata": {
  "kernelspec": {
   "display_name": "Python 3 (ipykernel)",
   "language": "python",
   "name": "python3"
  },
  "language_info": {
   "codemirror_mode": {
    "name": "ipython",
    "version": 3
   },
   "file_extension": ".py",
   "mimetype": "text/x-python",
   "name": "python",
   "nbconvert_exporter": "python",
   "pygments_lexer": "ipython3",
   "version": "3.9.13"
  }
 },
 "nbformat": 4,
 "nbformat_minor": 5
}

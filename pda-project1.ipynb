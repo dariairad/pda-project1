{
 "cells": [
  {
   "cell_type": "markdown",
   "id": "5f9f23f9",
   "metadata": {},
   "source": [
    "# Programming for Data Analysis - Project 1"
   ]
  },
  {
   "cell_type": "markdown",
   "id": "9a5901d7",
   "metadata": {},
   "source": [
    "## Author: Daria Sep"
   ]
  },
  {
   "cell_type": "markdown",
   "id": "0fbdb783",
   "metadata": {},
   "source": [
    "___"
   ]
  },
  {
   "cell_type": "markdown",
   "id": "66f2d204",
   "metadata": {},
   "source": [
    "### Introduction"
   ]
  },
  {
   "cell_type": "markdown",
   "id": "1963deb4",
   "metadata": {},
   "source": [
    "____"
   ]
  },
  {
   "cell_type": "markdown",
   "id": "2173cc14",
   "metadata": {},
   "source": [
    "### Research"
   ]
  },
  {
   "cell_type": "markdown",
   "id": "5ea6ea99",
   "metadata": {},
   "source": [
    "#### Variables"
   ]
  },
  {
   "cell_type": "markdown",
   "id": "d50de56d",
   "metadata": {},
   "source": [
    "1. Age\n",
    "2. Gender\n",
    "3. Ethnicity\n",
    "4. Religious affiliation?\n",
    "5. Educational achievement? \n",
    "6. Employment status\n",
    "7. Urban vs Rural"
   ]
  },
  {
   "cell_type": "markdown",
   "id": "faecdc33",
   "metadata": {},
   "source": [
    "#### 1. Age"
   ]
  },
  {
   "cell_type": "markdown",
   "id": "e1dea9d8",
   "metadata": {},
   "source": [
    "#### 2. Gender"
   ]
  },
  {
   "cell_type": "markdown",
   "id": "c3c8ddaf",
   "metadata": {},
   "source": [
    "978 males for every 1,000 females (2016). -> M: 49.44% F: 50.56%\n",
    "\n",
    "0-14 year olds: 1,046 boys for every 1000 girls\n",
    "15-64: 980 for 1000 females. \n",
    "65 and over... \n",
    "\n"
   ]
  },
  {
   "cell_type": "markdown",
   "id": "924156c5",
   "metadata": {},
   "source": [
    "### References: "
   ]
  },
  {
   "cell_type": "markdown",
   "id": "e16d46e1",
   "metadata": {},
   "source": [
    "Central Statistics Office (2022) Age Structure and Sex Ratio, *Census of Population 2016 - Profile 3 An Age Profile of Ireland.* Online at https://www.cso.ie/en/releasesandpublications/ep/p-cp3oy/cp3/assr/\n",
    "\n",
    "Hyland, P, Vallières, F, Shevlin, M, Bentall, R, Butter, S, Hartman, T, Karatzias, T, Martinez, A, McBride, O, Murphy, J, Fox, R, (2022). State of Ireland's mental health: findings from a nationally representative survey. *Epidemiology and Psychiatric Sciences, Vol.31.* Available online at https://www.ncbi.nlm.nih.gov/pmc/articles/PMC9281488/\n",
    "\n",
    "Markdown Guide (2022). Markdown Cheat Sheet. Online at https://www.markdownguide.org/cheat-sheet/\n",
    "\n",
    "?The World Bank (2022). Ireland. Online at https://data.worldbank.org/country/ireland\n",
    "\n",
    "?Worldometers (n.d.) Ireland Population. Online at https://www.worldometers.info/world-population/ireland-population/"
   ]
  },
  {
   "cell_type": "code",
   "execution_count": null,
   "id": "947b7311",
   "metadata": {},
   "outputs": [],
   "source": []
  }
 ],
 "metadata": {
  "kernelspec": {
   "display_name": "Python 3 (ipykernel)",
   "language": "python",
   "name": "python3"
  },
  "language_info": {
   "codemirror_mode": {
    "name": "ipython",
    "version": 3
   },
   "file_extension": ".py",
   "mimetype": "text/x-python",
   "name": "python",
   "nbconvert_exporter": "python",
   "pygments_lexer": "ipython3",
   "version": "3.9.13"
  }
 },
 "nbformat": 4,
 "nbformat_minor": 5
}

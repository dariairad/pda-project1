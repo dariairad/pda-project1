{
 "cells": [
  {
   "cell_type": "markdown",
   "id": "5f9f23f9",
   "metadata": {},
   "source": [
    "# Programming for Data Analysis - Project 1"
   ]
  },
  {
   "cell_type": "markdown",
   "id": "9a5901d7",
   "metadata": {},
   "source": [
    "## Author: Daria Sep"
   ]
  },
  {
   "cell_type": "markdown",
   "id": "0fbdb783",
   "metadata": {},
   "source": [
    "___"
   ]
  },
  {
   "cell_type": "markdown",
   "id": "66f2d204",
   "metadata": {},
   "source": [
    "### Overview"
   ]
  },
  {
   "cell_type": "markdown",
   "id": "84274dd7",
   "metadata": {},
   "source": [
    "This notebook contains a dataset of mental health disorders and death by suicide among Irish adults.\n",
    "\n",
    "The data has been modeled and synthesised using numpy.random package in Python. The dataset represents a sample of a poulation.\n",
    "\n",
    "The notebook has been divided into three parts: Research, Simulation and Data Analysis. \n",
    "\n",
    "1. **Variables** part contains investigation of the types of the variables involved, their likely distribution, and their relationship with each other.\n",
    "\n",
    "2. **Simulation** part \n",
    "\n",
    "3. **Data Analysis** part contains analysis of the generated database and its comarison with real-life data.\n",
    "\n"
   ]
  },
  {
   "cell_type": "code",
   "execution_count": 1,
   "id": "7c850e04",
   "metadata": {},
   "outputs": [],
   "source": [
    "import numpy as np\n",
    "import pandas as pd\n",
    "import matplotlib.pyplot as plt\n",
    "import seaborn as sns"
   ]
  },
  {
   "cell_type": "markdown",
   "id": "1963deb4",
   "metadata": {},
   "source": [
    "____"
   ]
  },
  {
   "cell_type": "markdown",
   "id": "06d403be",
   "metadata": {},
   "source": [
    "### Introduction"
   ]
  },
  {
   "cell_type": "markdown",
   "id": "89359f79",
   "metadata": {},
   "source": [
    "According to 2022 study, 42.5% of Irish adult population suffers from mental health disorders and 11% reportes having attempted suicide at some point in their lifetime. It has also been found that **people experiencing a mental health disorder were five times more likely than those without a disorder to have attempted suicide.** (Maynooth University 2022). In 2016, the suicide rate in Ireland was approximately 9.5/100,000 (CSO 2022).\n",
    "\n",
    "The surveys by World Health Organization show that the estimated lifetime prevalence of having a mental health disorder varies widely across the surveyed countries, from 47.4% in the United States to 12.0% in Nigeria (Kessler et all 2007). \n",
    "\n",
    "The findings of the Irish study are consistent with those of WHO and locate Ireland amongst countires with the highest prevelance of mental health distorders along with France (38%), Columbia (39%), New Zealand (39%) and the USA (47%) (Kessler et all 2007).\n",
    "\n",
    "The average score of deaths by suicide for Ireland is close to estimated global of 9/100,00 (WHO 2021)."
   ]
  },
  {
   "cell_type": "markdown",
   "id": "3a8b4338",
   "metadata": {},
   "source": [
    "\n",
    "\n",
    "|Statistic|Mental Disorder Sufferers|Suicide Attempt|Suicide Re-Attempt|Death|\n",
    "|---------|---------|---------|---------|---------|\n",
    "|Ireland|x%|\n",
    "|Global|x%|"
   ]
  },
  {
   "cell_type": "markdown",
   "id": "14047bc2",
   "metadata": {},
   "source": [
    "---"
   ]
  },
  {
   "cell_type": "markdown",
   "id": "2173cc14",
   "metadata": {},
   "source": [
    "### 1. Variables"
   ]
  },
  {
   "cell_type": "markdown",
   "id": "c180ceeb",
   "metadata": {},
   "source": [
    "List of variables, their distribution and relationship with each other."
   ]
  },
  {
   "cell_type": "markdown",
   "id": "5ea6ea99",
   "metadata": {},
   "source": [
    "#### Variables"
   ]
  },
  {
   "cell_type": "markdown",
   "id": "d50de56d",
   "metadata": {},
   "source": [
    "- ID \n",
    "- Age\n",
    "- Gender \n",
    "- Mental Health Disorder\n",
    "- Death by Suicide"
   ]
  },
  {
   "cell_type": "markdown",
   "id": "faecdc33",
   "metadata": {},
   "source": [
    "#### ID"
   ]
  },
  {
   "cell_type": "markdown",
   "id": "2459a47c",
   "metadata": {},
   "source": [
    "*ID* will represent each person in the sample. For the purpose of this project a numbered list of persons will be used. "
   ]
  },
  {
   "cell_type": "code",
   "execution_count": 2,
   "id": "ee87f765",
   "metadata": {},
   "outputs": [
    {
     "data": {
      "text/plain": [
       "['Person 1', 'Person 2', 'Person 3', 'Person 4', 'Person 5']"
      ]
     },
     "execution_count": 2,
     "metadata": {},
     "output_type": "execute_result"
    }
   ],
   "source": [
    "# Creating a numbered list of persons - Test\n",
    "\n",
    "person = []\n",
    "for i in range (1, 6):\n",
    "    person.append (\"Person {}\".format(i))\n",
    "person"
   ]
  },
  {
   "cell_type": "markdown",
   "id": "e7ead808",
   "metadata": {},
   "source": [
    "#### Age"
   ]
  },
  {
   "cell_type": "markdown",
   "id": "509d2651",
   "metadata": {},
   "source": [
    "According to the last available *Census of Population*, the average age of the population in 2016 was 37.4. \n",
    "\n",
    "<u> Age Distribution </u>\n",
    "\n",
    "Normal distribution allows for negative values and has no bounds. However, based on further research, normal distribution can be used for bounded variables and is an appropriate choice for *age* approximation assuring correct adjustement to the mean value. \n"
   ]
  },
  {
   "cell_type": "markdown",
   "id": "e1dea9d8",
   "metadata": {},
   "source": [
    "#### Gender"
   ]
  },
  {
   "cell_type": "markdown",
   "id": "c3c8ddaf",
   "metadata": {},
   "source": [
    "*Gender* is categorised as a qualitative data variable with two possible values: *male* or *female*. According to the 2016 Census of Population, there were 978 males for every 1,000 females in Ireland at that time. This translates to the ratio of male: 49.44% and female: 50.56%.\n",
    "\n",
    "However, it is closer to the ratio below when looking at adult population only:\n",
    "\n",
    "- male 48.88%\n",
    "- female 51.12%\n",
    "\n",
    "(CSO 2017, CSO 2022)"
   ]
  },
  {
   "cell_type": "markdown",
   "id": "a2f31398",
   "metadata": {},
   "source": [
    "#### Mental Health Disorder\n"
   ]
  },
  {
   "cell_type": "markdown",
   "id": "7f8bb740",
   "metadata": {},
   "source": [
    "Almost 1 in 5 adults in Ireland suffers from mental disorder - approx 42.5% of adult population. \n",
    "\n",
    "Listed below are 12 diorders along with a % of population diagnosed with each disorder.\n",
    "\n",
    "1. Insomnia Disorder - 15.0%\n",
    "2. Avoidant Personality Disorder (AvPD) - 14.0%\n",
    "3. Obsessive Compulsive Disorder (OCD) - 11.9%\n",
    "4. Major Depressive Disorder (MDD) - 11.5%\n",
    "5. Alcohol Use Disorder (AUD) - 9.3%\n",
    "6. Complex Postraumatic Stress Disorder (CPTSD) - 8.8%\n",
    "7. Generelized Anxiety Disorder (GAD) - 7.1%\n",
    "8. Borderline Personality Disorder (BPD) - 6.5%\n",
    "9. Schizoid Personality Disorder (ScPD) - 5.7%\n",
    "10. Psychosis - 3.9%\n",
    "11. Posttraumatic Stress Disorder (PTSD) - 2.4%\n",
    "12. Histrionic Personality Disorder (HPD) - 1.7%\n",
    "\n",
    "(Hyland et al 2022)"
   ]
  },
  {
   "cell_type": "markdown",
   "id": "3c88e98a",
   "metadata": {},
   "source": [
    "#### Death by Suicide\n",
    "\n",
    "As mentioned in the Overview section, the suicide rate in Ireland was approximately 9.5/100,000 in 2016 (CSO 2022)."
   ]
  },
  {
   "cell_type": "markdown",
   "id": "8e66d9e5",
   "metadata": {},
   "source": [
    "#### Age vs Gender "
   ]
  },
  {
   "cell_type": "markdown",
   "id": "a99d008b",
   "metadata": {},
   "source": [
    "The average age for women was higher than that of men and the averages were 38 and 36.7 respectively. However, age distribution by age group is very similar despite of gender. The biggest group constitutes of ages 25-44 with a 45-64 group at a close second. The smalest group is the 15-24 group followed by over 65s (CSO 2017). "
   ]
  },
  {
   "cell_type": "markdown",
   "id": "4c8e5a7f",
   "metadata": {},
   "source": [
    "#### Age vs Mental Health and Suicide Rates"
   ]
  },
  {
   "cell_type": "markdown",
   "id": "ada02c19",
   "metadata": {},
   "source": [
    "Mental health disorders are more prevelent in younger age groups. A 2022 study on *State of Ireland's mental health* found that people aged 18-24 years were eight times more likely than people aged 55 and over to suffer from a mental health disorder (Maynooth University 2022). \n",
    "\n",
    "Hovewer, death by suicide between 2015-2019 was most prevelent in the age older groups. One in 3 deaths from self-harm were by persons aged 45-64, while one in ten by persons aged 65 years and older. (CSO 2022). "
   ]
  },
  {
   "cell_type": "markdown",
   "id": "6b026658",
   "metadata": {},
   "source": [
    "#### Gender vs Mental Health and Suicide Rates"
   ]
  },
  {
   "cell_type": "markdown",
   "id": "ce33c639",
   "metadata": {},
   "source": [
    "Although women are thrice more likely to suffer from mental health disorders than men, it is men that are more likely than women to die of suicide. Globally, suicide rates in men are just over twice as high as for women (Ritchie at al 2015). In 2016, those rate were even higer for Irish men. They were three times more likely to die of suicide than Irish women (CSO 2022).\n",
    "\n",
    "Different mental health disorders are more commonly diagnosed in men and women. Men tend toward substance abuse or antisocial disorders, while women are more likely to suffer from with anxiety or depressio (American Psychological Association 2011)."
   ]
  },
  {
   "cell_type": "markdown",
   "id": "75eff253",
   "metadata": {},
   "source": [
    "#### Mental Health Disorders vs Sucicide Rates"
   ]
  },
  {
   "cell_type": "markdown",
   "id": "b6ddbc23",
   "metadata": {},
   "source": [
    "Five times more poeple who commit suicide suffer from mental health disorder than those who don't. (Maynooth University 2022).\n",
    "\n",
    "Suffering from any of the 12 disorders listed earlier inclreases risk of dying of suicide. However, the risk vary from dependng on the disorder. "
   ]
  },
  {
   "cell_type": "markdown",
   "id": "758177e0",
   "metadata": {},
   "source": [
    "### Modelling"
   ]
  },
  {
   "cell_type": "code",
   "execution_count": null,
   "id": "2b97e8c4",
   "metadata": {},
   "outputs": [],
   "source": []
  },
  {
   "cell_type": "markdown",
   "id": "924156c5",
   "metadata": {},
   "source": [
    "### References: "
   ]
  },
  {
   "cell_type": "markdown",
   "id": "e16d46e1",
   "metadata": {},
   "source": [
    "American Psychological Association (2021). *Study Finds Sex Differences in Mental Illness.* Online at https://www.apa.org/news/press/releases/2011/08/mental-illness\n",
    "\n",
    "Central Statistics Office (2017). *Census of Population 2016 - Profile 2 Population Distribution and Movements.* Online at https://www.cso.ie/en/releasesandpublications/ep/p-cp2tc/cp2pdm/\n",
    "\n",
    "Central Statistics Office (2017). *Census of Population 2016 - Profile 3 An Age Profile of Ireland.* Online at https://www.cso.ie/en/releasesandpublications/ep/p-cp3oy/cp3/\n",
    "\n",
    "Central Statistics Office (2022). *EY007 - Population 2011 to 2016*, Census 2016. Online at https://data.cso.ie/\n",
    "\n",
    "Central Statistics Office (2022). *Suicide Statistics 2019*. Online at https://www.cso.ie/en/releasesandpublications/ep/p-ss/suicidestatistics2019/\n",
    "\n",
    "Gruebner G, Rapp M, Adli M, Kluge U, Galea S, Heinz A, (2017). Cities and Mental Health. *Deutsches Ärzteblatt International, Vol.114, p.121–127.* Available online at https://www.ncbi.nlm.nih.gov/pmc/articles/PMC5374256/\n",
    "\n",
    "Hyland P, Vallières F, Shevlin M, Bentall R, Butter S, Hartman T, Karatzias T, Martinez A, McBride O, Murphy J, Fox R, (2022). State of Ireland's mental health: findings from a nationally representative survey. *Epidemiology and Psychiatric Sciences, Vol.31.* Available online at https://www.ncbi.nlm.nih.gov/pmc/articles/PMC9281488/\n",
    "\n",
    "Kessler R, Angermayer M, Anthony J, De Graff R, Demyttenaere K, Gasquet I, De Girolamo G, Gluzman S, Gureje O, Haro J, Kawakami N, Karam A, Levinson D, Mora M, Browne M, Posada-Villa J, Stein D, Tsang C, Aguilar-Gaxiola S, Alonso J, Lee S, Heeringa S, Pennell B,  Berglund P, Gruber M, Petukhova M, Chatterji S, Üstün T (2007). Lifetime prevalence and age-of-onset distributions of mental disorders in the World Health Organization's World Mental Health Survey Initiative. *World Psychiatry, vol.6.* Online at: https://www.ncbi.nlm.nih.gov/pmc/articles/PMC2174588/\n",
    "\n",
    "Maynooth University (2022). *Over 40% of Irish adults have a mental health disorder and one in ten have attempted suicide – MU, NCI and Trinity College research.* Online at https://www.maynoothuniversity.ie/psychology/news/over-40-irish-adults-have-mental-health-disorder-and-one-ten-have-attempted-suicide-mu-nci-and\n",
    "\n",
    "Ritchie H, Roser M, and Ortiz-Ospina E (2015). *Suicide.* Online at: 'https://ourworldindata.org/suicide'\n",
    "\n",
    "World Health Organization (2021). *Suicide.* Online at https://www.who.int/news-room/fact-sheets/detail/suicide\n",
    "\n",
    "World Health Organization (2021). *Suicide Rates.* Online at https://www.who.int/data/gho/data/themes/mental-health/suicide-rates\n",
    "\n",
    "World Health Organization (2022). *Mental disorders.* Online at https://www.who.int/news-room/fact-sheets/detail/mental-disorders\n",
    "________\n",
    "\n",
    "Mechelli, A. (2019) *Cities increase your risk of depression, anxiety and psychosis – but bring mental health benefits too.* Available online at https://www.kcl.ac.uk/cities-increase-your-risk-of-depression-anxiety-and-psychosis-but-bring-mental-health-benefits-too\n",
    "_________\n",
    "\n",
    "Arnholt, A. (2016). *Passion Driven Statistics.* Online at https://alanarnholt.github.io/PDS-Bookdown2/\n",
    "\n",
    "Markdown Guide (2022). Markdown Cheat Sheet. Online at https://www.markdownguide.org/cheat-sheet/\n",
    "\n",
    "Stack Exchange (2015). *If my histogram shows a bell-shaped curve, can I say my data is normally distributed?* Online at https://stats.stackexchange.com/\n",
    "\n",
    "\n",
    "\n"
   ]
  }
 ],
 "metadata": {
  "kernelspec": {
   "display_name": "Python 3 (ipykernel)",
   "language": "python",
   "name": "python3"
  },
  "language_info": {
   "codemirror_mode": {
    "name": "ipython",
    "version": 3
   },
   "file_extension": ".py",
   "mimetype": "text/x-python",
   "name": "python",
   "nbconvert_exporter": "python",
   "pygments_lexer": "ipython3",
   "version": "3.9.13"
  }
 },
 "nbformat": 4,
 "nbformat_minor": 5
}

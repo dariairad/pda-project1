{
 "cells": [
  {
   "cell_type": "markdown",
   "id": "5f9f23f9",
   "metadata": {},
   "source": [
    "# Programming for Data Analysis - Project 1"
   ]
  },
  {
   "cell_type": "markdown",
   "id": "9a5901d7",
   "metadata": {},
   "source": [
    "## Author: Daria Sep"
   ]
  },
  {
   "cell_type": "markdown",
   "id": "0fbdb783",
   "metadata": {},
   "source": [
    "___"
   ]
  },
  {
   "cell_type": "markdown",
   "id": "66f2d204",
   "metadata": {},
   "source": [
    "### Introduction"
   ]
  },
  {
   "cell_type": "markdown",
   "id": "84274dd7",
   "metadata": {},
   "source": [
    "This notebook contains a dataset of mental health disorders among Irish adults. The data has been modeled and synthesised using numpy.random package in Python. The dataset represents a sample of a poulation.\n",
    "\n",
    "The notebook has been divided into three parts: Research, Simulation and Data Analysis. \n",
    "\n",
    "1. **Research** part contains investigation of the types of the variables involved, their likely distribution, and their relationship with each other.\n",
    "\n",
    "2. **Simulation** part \n",
    "\n",
    "3. **Data Analysis** part contains analysis of the generated database and its comarison with real-life data."
   ]
  },
  {
   "cell_type": "markdown",
   "id": "1963deb4",
   "metadata": {},
   "source": [
    "____"
   ]
  },
  {
   "cell_type": "markdown",
   "id": "2173cc14",
   "metadata": {},
   "source": [
    "### 1. Research"
   ]
  },
  {
   "cell_type": "markdown",
   "id": "c180ceeb",
   "metadata": {},
   "source": []
  },
  {
   "cell_type": "markdown",
   "id": "5ea6ea99",
   "metadata": {},
   "source": [
    "#### Variables"
   ]
  },
  {
   "cell_type": "markdown",
   "id": "d50de56d",
   "metadata": {},
   "source": [
    "- ID \n",
    "- Age\n",
    "- Gender \n",
    "- Ethnicity\n",
    "- Religious affiliation?\n",
    "- Educational achievement? \n",
    "- Employment status\n",
    "- Urban vs Rural"
   ]
  },
  {
   "cell_type": "markdown",
   "id": "faecdc33",
   "metadata": {},
   "source": [
    "#### ID"
   ]
  },
  {
   "cell_type": "markdown",
   "id": "2459a47c",
   "metadata": {},
   "source": [
    "*ID* will represent each person in the sample. For the purpose of this project a numbered list of persons will be used. "
   ]
  },
  {
   "cell_type": "code",
   "execution_count": 4,
   "id": "ee87f765",
   "metadata": {},
   "outputs": [
    {
     "data": {
      "text/plain": [
       "['Person 1', 'Person 2', 'Person 3', 'Person 4', 'Person 5']"
      ]
     },
     "execution_count": 4,
     "metadata": {},
     "output_type": "execute_result"
    }
   ],
   "source": [
    "# Creating a numbered list of persons - Test\n",
    "\n",
    "person = []\n",
    "for i in range (1, 6):\n",
    "    person.append (\"Person {}\".format(i))\n",
    "person"
   ]
  },
  {
   "cell_type": "markdown",
   "id": "e7ead808",
   "metadata": {},
   "source": [
    "#### Age"
   ]
  },
  {
   "cell_type": "markdown",
   "id": "509d2651",
   "metadata": {},
   "source": [
    "*Age* is cathegorised as quantitive continuous variable. \n",
    "\n",
    "According to the last available Census of Population, the average age of the population in 2016 was 37.4. The average age for women was higher than that of men. The averages were 38 and 36.7 respectively. #adult population, median, etc\n",
    "\n",
    "Based on research, right-skewed distribution is the most appropriate distribution for *age* in this scenario."
   ]
  },
  {
   "cell_type": "markdown",
   "id": "e1dea9d8",
   "metadata": {},
   "source": [
    "#### Gender"
   ]
  },
  {
   "cell_type": "markdown",
   "id": "c3c8ddaf",
   "metadata": {},
   "source": [
    "*Gender* is categorised as a qualitative data variable with two possible values: *male* or *female*. According to the last available Census of Population, there were 978 males for every 1,000 females in Ireland in 2016. This translates to the ratio of male: 49.44% and female: 50.56%.\n",
    "\n",
    "However, it is closer to the ratio below when looking at adult population only:\n",
    "\n",
    "- male 48.88%\n",
    "- female 51.12%"
   ]
  },
  {
   "cell_type": "markdown",
   "id": "924156c5",
   "metadata": {},
   "source": [
    "### References: "
   ]
  },
  {
   "cell_type": "markdown",
   "id": "e16d46e1",
   "metadata": {},
   "source": [
    "Arnholt, A. (2016). *Passion Driven Statistics.* Online at https://alanarnholt.github.io/PDS-Bookdown2/\n",
    "\n",
    "Central Statistics Office (2022). *Census of Population 2016 - Profile 3 An Age Profile of Ireland.* Online at https://www.cso.ie/en/releasesandpublications/ep/p-cp3oy/cp3/assr/\n",
    "\n",
    "Central Statistics Office (2022). *EY007 - Population 2011 to 2016*, Census 2016. Online at https://data.cso.ie/\n",
    "\n",
    "Frost, J. (2022) *Skewed Distribution: Definition & Examples.* Online at https://statisticsbyjim.com/basics/skewed-distribution/\n",
    "\n",
    "Hyland, P, Vallières, F, Shevlin, M, Bentall, R, Butter, S, Hartman, T, Karatzias, T, Martinez, A, McBride, O, Murphy, J, Fox, R, (2022). State of Ireland's mental health: findings from a nationally representative survey. *Epidemiology and Psychiatric Sciences, Vol.31.* Available online at https://www.ncbi.nlm.nih.gov/pmc/articles/PMC9281488/\n",
    "\n",
    "Markdown Guide (2022). Markdown Cheat Sheet. Online at https://www.markdownguide.org/cheat-sheet/\n"
   ]
  },
  {
   "cell_type": "code",
   "execution_count": null,
   "id": "947b7311",
   "metadata": {},
   "outputs": [],
   "source": []
  }
 ],
 "metadata": {
  "kernelspec": {
   "display_name": "Python 3 (ipykernel)",
   "language": "python",
   "name": "python3"
  },
  "language_info": {
   "codemirror_mode": {
    "name": "ipython",
    "version": 3
   },
   "file_extension": ".py",
   "mimetype": "text/x-python",
   "name": "python",
   "nbconvert_exporter": "python",
   "pygments_lexer": "ipython3",
   "version": "3.9.13"
  }
 },
 "nbformat": 4,
 "nbformat_minor": 5
}
